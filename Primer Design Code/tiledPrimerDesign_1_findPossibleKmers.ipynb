{
 "cells": [
  {
   "cell_type": "markdown",
   "metadata": {},
   "source": [
    "# Tiled Primer Design: Finding kmers\n",
    "\n",
    "This jupyter notebook identifies k-mers for tiled PCR amplification across random sites in a single genome. \n",
    "\n",
    "\n",
    "\n",
    "### Credit\n",
    "\n",
    "Written by Julie Chen and Gowtham Thakku"
   ]
  },
  {
   "cell_type": "markdown",
   "metadata": {},
   "source": [
    "## Set up "
   ]
  },
  {
   "cell_type": "code",
   "execution_count": 4,
   "metadata": {},
   "outputs": [],
   "source": [
    "# The necessary python packages are imported here. If you receive an error, you may have to install these packages\n",
    "\n",
    "from Bio import SeqIO\n",
    "from Bio.Seq import Seq\n",
    "from Bio.Blast import NCBIXML\n",
    "import numpy as np\n",
    "import pandas as pd\n",
    "import itertools\n",
    "import re\n",
    "import xlrd"
   ]
  },
  {
   "cell_type": "code",
   "execution_count": 5,
   "metadata": {},
   "outputs": [],
   "source": [
    "# declare some modifiable parameters here:\n",
    "\n",
    "date = '20220713'\n",
    "kmerSize = 5\n",
    "genomeFileName = '../NC_000962.fasta' #Path here specifies the genome fasta file to identify k-mers in\n",
    "record = SeqIO.read(genomeFileName, 'fasta')\n",
    "fastaSeq = record.seq\n",
    "\n",
    "# note: few more manual inputs later (see Doc for more instructions)"
   ]
  },
  {
   "cell_type": "markdown",
   "metadata": {},
   "source": [
    "## Identifying compatible k-mer pairs\n",
    "\n",
    "We will use k-mers as a semi-random, unbiased method to identify potential sites across the genome for tiled PCR amplification. \\\n",
    "The final chosen k-mer(s) will serve as the 3'-most end of the primer design."
   ]
  },
  {
   "cell_type": "markdown",
   "metadata": {},
   "source": [
    "### Generating a list of k-mers and their corresponding frequencies"
   ]
  },
  {
   "cell_type": "code",
   "execution_count": 6,
   "metadata": {},
   "outputs": [],
   "source": [
    "'''\n",
    "Returns a list of all possible nucleotide k-mers for a given k.\n",
    "\n",
    "    Adapted from:\n",
    "    http://saradoesbioinformatics.blogspot.com/2016/08/k-mer-composition.html\n",
    "\n",
    "'''\n",
    "\n",
    "def allKmers(k):\n",
    "    \n",
    "    nt = 'ACGT'\n",
    "    permutations = itertools.product(nt, repeat = k)\n",
    "    \n",
    "    kmers = []\n",
    "    for i, j in enumerate(list(permutations)):\n",
    "        kmer = ''\n",
    "        for item in j:\n",
    "            kmer += str(item)\n",
    "        kmers.append(kmer)\n",
    "    \n",
    "    return kmers\n",
    "\n",
    "'''\n",
    "Returns a list of the corresponding frequencies in a genome for each index of a list of k-mers.\n",
    "    \n",
    "    r'' is raw string notation\n",
    "    ?= allows overlapping k-mers\n",
    "    While .count could work similarly, it does not consider overlapping sequences separately.\n",
    "    Also, .findall returns each substring/pattern itself, rather than the index positions.\n",
    "    \n",
    "'''\n",
    "\n",
    "def kmerFrequency(kmers, genomeSeq):\n",
    "    \n",
    "    frequency = []\n",
    "    for k in kmers:\n",
    "        occurrence = 0\n",
    "        pattern = re.compile(r'(?=(' + k + '))')\n",
    "        for l in re.findall(pattern, str(genomeSeq)):\n",
    "            occurrence += 1\n",
    "        frequency.append(occurrence)\n",
    "    \n",
    "    return frequency"
   ]
  },
  {
   "cell_type": "code",
   "execution_count": 7,
   "metadata": {},
   "outputs": [],
   "source": [
    "allKmersList = allKmers(kmerSize)"
   ]
  },
  {
   "cell_type": "markdown",
   "metadata": {},
   "source": [
    "### Filtering: low heterogeneity in k-mer sequence"
   ]
  },
  {
   "cell_type": "code",
   "execution_count": 8,
   "metadata": {},
   "outputs": [],
   "source": [
    "'''\n",
    "Returns a list of k-mers filtered such that a nucleotide may only appear\n",
    "twice in a row in any given sequence to remove k-mers with low heterogeneity.\n",
    "\n",
    "By removing all k-mers where a nucleotide appears consecutively 3x (i.e. 'AAA'),\n",
    "this ultimately eliminates 4x, 5x, 6x too.\n",
    "    \n",
    "'''\n",
    "#PARAMETERS CAN POTENTIALLY BE CHANGED\n",
    "def max2ConsecutiveNt(seqList):\n",
    "    consecutive = ['AAA', 'CCC', 'GGG', 'TTT']\n",
    "    noTripleNuc = []\n",
    "    \n",
    "    for i in seqList:\n",
    "        contains = 0\n",
    "        for j in consecutive:\n",
    "            if i.find(j) > -1 : # if .find returns -1, no matches\n",
    "                contains += 1\n",
    "        if contains == 0:\n",
    "            noTripleNuc.append(i)\n",
    "            \n",
    "    return noTripleNuc"
   ]
  },
  {
   "cell_type": "code",
   "execution_count": 9,
   "metadata": {},
   "outputs": [
    {
     "name": "stdout",
     "output_type": "stream",
     "text": [
      "864\n"
     ]
    }
   ],
   "source": [
    "noHomopolymericKmers = max2ConsecutiveNt(allKmersList)\n",
    "print(len(noHomopolymericKmers))"
   ]
  },
  {
   "cell_type": "code",
   "execution_count": 10,
   "metadata": {},
   "outputs": [],
   "source": [
    "# generate frequency list for the updated k-mers list (takes a few min to run)\n",
    "\n",
    "kmerFreqList = kmerFrequency(noHomopolymericKmers, fastaSeq)"
   ]
  },
  {
   "cell_type": "code",
   "execution_count": 11,
   "metadata": {},
   "outputs": [],
   "source": [
    "kmerStarterDict = {'k-mer sequence': noHomopolymericKmers, 'num. of occurrences': kmerFreqList}\n",
    "df_kmer = pd.DataFrame(kmerStarterDict)\n",
    "df_kmer.head()\n",
    "df_kmer.to_csv('kmers.csv')"
   ]
  },
  {
   "cell_type": "code",
   "execution_count": 12,
   "metadata": {},
   "outputs": [],
   "source": [
    "'''\n",
    "Returns a list of diversity scores for a given k-mers list from a pandas dataframe.\n",
    "\n",
    "    Presence of each unique nucleotide in a k-mer is +1.\n",
    "    Max score = 4 where the k-mer contains each nucleotide.\n",
    "\n",
    "'''\n",
    "#PARAMETERS CAN POTENTIALLY BE CHANGED\n",
    "def scoreSeqDiversity(df, kmerSeqColumn):\n",
    "    \n",
    "    allDiversityScores = []\n",
    "    nt = ['A', 'C', 'G', 'T']\n",
    "    \n",
    "    for i in df.index: \n",
    "        diversityScore = 0\n",
    "        \n",
    "        for j in nt:\n",
    "            if df.loc[i, kmerSeqColumn].find(j) != -1:\n",
    "                diversityScore += 1\n",
    "                \n",
    "        allDiversityScores.append(diversityScore)\n",
    "    \n",
    "    return allDiversityScores"
   ]
  },
  {
   "cell_type": "code",
   "execution_count": 13,
   "metadata": {},
   "outputs": [
    {
     "data": {
      "text/html": [
       "<div>\n",
       "<style scoped>\n",
       "    .dataframe tbody tr th:only-of-type {\n",
       "        vertical-align: middle;\n",
       "    }\n",
       "\n",
       "    .dataframe tbody tr th {\n",
       "        vertical-align: top;\n",
       "    }\n",
       "\n",
       "    .dataframe thead th {\n",
       "        text-align: right;\n",
       "    }\n",
       "</style>\n",
       "<table border=\"1\" class=\"dataframe\">\n",
       "  <thead>\n",
       "    <tr style=\"text-align: right;\">\n",
       "      <th></th>\n",
       "      <th>k-mer sequence</th>\n",
       "      <th>num. of occurrences</th>\n",
       "      <th>k-mer Seq. Diversity</th>\n",
       "    </tr>\n",
       "  </thead>\n",
       "  <tbody>\n",
       "    <tr>\n",
       "      <th>0</th>\n",
       "      <td>AACAA</td>\n",
       "      <td>2156</td>\n",
       "      <td>2</td>\n",
       "    </tr>\n",
       "    <tr>\n",
       "      <th>1</th>\n",
       "      <td>AACAC</td>\n",
       "      <td>3731</td>\n",
       "      <td>2</td>\n",
       "    </tr>\n",
       "    <tr>\n",
       "      <th>2</th>\n",
       "      <td>AACAG</td>\n",
       "      <td>3153</td>\n",
       "      <td>3</td>\n",
       "    </tr>\n",
       "    <tr>\n",
       "      <th>3</th>\n",
       "      <td>AACAT</td>\n",
       "      <td>2030</td>\n",
       "      <td>3</td>\n",
       "    </tr>\n",
       "    <tr>\n",
       "      <th>4</th>\n",
       "      <td>AACCA</td>\n",
       "      <td>3114</td>\n",
       "      <td>2</td>\n",
       "    </tr>\n",
       "  </tbody>\n",
       "</table>\n",
       "</div>"
      ],
      "text/plain": [
       "  k-mer sequence  num. of occurrences  k-mer Seq. Diversity\n",
       "0          AACAA                 2156                     2\n",
       "1          AACAC                 3731                     2\n",
       "2          AACAG                 3153                     3\n",
       "3          AACAT                 2030                     3\n",
       "4          AACCA                 3114                     2"
      ]
     },
     "execution_count": 13,
     "metadata": {},
     "output_type": "execute_result"
    }
   ],
   "source": [
    "df_kmer['k-mer Seq. Diversity'] = scoreSeqDiversity(df_kmer, 'k-mer sequence')\n",
    "df_kmer.head()"
   ]
  },
  {
   "cell_type": "code",
   "execution_count": 14,
   "metadata": {},
   "outputs": [
    {
     "name": "stdout",
     "output_type": "stream",
     "text": [
      "864\n"
     ]
    }
   ],
   "source": [
    "'''\n",
    "To identify k-mers with high sequence diversity,\n",
    "shortlist for k-mers that contain each type of nucleotide\n",
    "\n",
    "e.g. remove AAAAT, but retain sequences like ACAGT\n",
    "\n",
    "'''\n",
    "#PARAMETERS CAN POTENTIALLY BE CHANGED\n",
    "df_kmerDiverse = df_kmer[df_kmer['k-mer Seq. Diversity'] > 1]\n",
    "print(len(df_kmerDiverse))\n",
    "df = df_kmerDiverse\n",
    "\n",
    "df_kmerDiverse.to_csv('kmers_diverse.csv')"
   ]
  },
  {
   "cell_type": "code",
   "execution_count": 162,
   "metadata": {},
   "outputs": [
    {
     "data": {
      "text/plain": [
       "(21, 4)"
      ]
     },
     "execution_count": 162,
     "metadata": {},
     "output_type": "execute_result"
    }
   ],
   "source": [
    "#WHAT'S UP WITH THIS?\n",
    "kmer='TTG'\n",
    "\n",
    "df['remove'] = df['k-mer sequence'].str.find(kmer)\n",
    "df = df[df.remove < 0]\n",
    "df.shape           "
   ]
  },
  {
   "cell_type": "code",
   "execution_count": 15,
   "metadata": {},
   "outputs": [],
   "source": [
    "df.to_csv('kmers_remaining.csv')"
   ]
  },
  {
   "cell_type": "code",
   "execution_count": 16,
   "metadata": {},
   "outputs": [],
   "source": [
    "df_kmerDiverseRanked = df.sort_values('num. of occurrences', ascending = False)\n",
    "df_kmerDiverseRanked.head(21)\n",
    "df_kmerDiverseRanked.to_csv('kmers_diverse_ranked.csv')"
   ]
  },
  {
   "cell_type": "code",
   "execution_count": null,
   "metadata": {},
   "outputs": [],
   "source": []
  }
 ],
 "metadata": {
  "kernelspec": {
   "display_name": "Python 3",
   "language": "python",
   "name": "python3"
  },
  "language_info": {
   "codemirror_mode": {
    "name": "ipython",
    "version": 3
   },
   "file_extension": ".py",
   "mimetype": "text/x-python",
   "name": "python",
   "nbconvert_exporter": "python",
   "pygments_lexer": "ipython3",
   "version": "3.7.6"
  }
 },
 "nbformat": 4,
 "nbformat_minor": 2
}
