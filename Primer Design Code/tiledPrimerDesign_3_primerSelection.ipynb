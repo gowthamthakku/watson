{
 "cells": [
  {
   "cell_type": "markdown",
   "metadata": {},
   "source": [
    "# Tiled Primer Design\n",
    "\n",
    "This jupyter notebook semi-automates the process of designing primers using k-mers for tiled PCR amplification across random sites in a single genome. \n",
    "\n",
    "\n",
    "### User Notes\n",
    "\n",
    "\n",
    "I have re-written the script such that it no longer changes directories. Therefore, I recommend storing all files in one local (not Google Drive!) directory (i.e. jupyter notebook, genome.fasta, excel sheet). The generated fasta, xml, and db files will also be exported to this directory. \n",
    "\n",
    "\n",
    "\n",
    "### Credit\n",
    "\n",
    "Written by Julie Chen (June/July 2020) for Python 3 \\\n",
    "Some adaptions from MATLAB script written by Gowtham Thakku\n",
    "Additions by Gowtham Thakku"
   ]
  },
  {
   "cell_type": "markdown",
   "metadata": {},
   "source": [
    "## Set up "
   ]
  },
  {
   "cell_type": "code",
   "execution_count": 1,
   "metadata": {},
   "outputs": [],
   "source": [
    "from Bio import SeqIO\n",
    "from Bio.Seq import Seq\n",
    "from Bio.Blast import NCBIXML\n",
    "from Bio.SeqUtils import MeltingTemp as mt\n",
    "import numpy as np\n",
    "import pandas as pd\n",
    "import itertools\n",
    "import re\n",
    "import xlrd"
   ]
  },
  {
   "cell_type": "code",
   "execution_count": 2,
   "metadata": {},
   "outputs": [],
   "source": [
    "# declare some modifiable parameters here:\n",
    "\n",
    "date = '20210728'\n",
    "kmerSize = 5\n",
    "genomeFileName = '../NC_000962.fasta'\n",
    "# genomeFileName = '../IS6110_IS1801.fasta'\n",
    "record = SeqIO.read(genomeFileName, 'fasta')\n",
    "fastaSeq = record.seq\n",
    "\n",
    "# note: few more manual inputs later (see Doc for more instructions)"
   ]
  },
  {
   "cell_type": "markdown",
   "metadata": {},
   "source": [
    "## Designing Primers"
   ]
  },
  {
   "cell_type": "markdown",
   "metadata": {},
   "source": [
    "### Extract initial primer sequences using a chosen k-mer\n",
    "\n",
    "**How to tell if a k-mer will likely self-dimerize**: Does the reverse (NOT rc) mostly bind to the forward sequence of the k-mer? If so, don't use this k-mer. \\\n",
    "e.g. F: 5' GCTGC 3' would be R: 3' CGTCG 5' which is complementary at 4/5 positions"
   ]
  },
  {
   "cell_type": "code",
   "execution_count": 3,
   "metadata": {},
   "outputs": [],
   "source": [
    "# based on the \"compatible\" k-mers identified, select a set of k-mers to use\n",
    "\n",
    "chosenKmers = ['AGCAG', 'TCCAC', 'GTTGC', 'GTTGA', 'CTCAA', 'CGATG']\n",
    "#Set other parameters for run\n",
    "gRNA_size = 28\n",
    "wiggleRoom = 20\n",
    "primerLength = 30"
   ]
  },
  {
   "cell_type": "code",
   "execution_count": 4,
   "metadata": {},
   "outputs": [
    {
     "name": "stdout",
     "output_type": "stream",
     "text": [
      "Number of F primer Positions:  5945\n",
      "Number of R primer Positions:  5945\n",
      "Filtering sequence: GCAAC\n",
      "Remaining primer pairs: (5532, 12)\n",
      "Filtering sequence: CTGCT\n",
      "Remaining primer pairs: (5287, 12)\n",
      "Filtering sequence: GTGGA\n",
      "Remaining primer pairs: (4832, 12)\n",
      "Filtering sequence: GCAAC\n",
      "Remaining primer pairs: (4597, 12)\n",
      "Filtering sequence: TCAAC\n",
      "Remaining primer pairs: (4433, 12)\n",
      "Filtering sequence: TTGAG\n",
      "Remaining primer pairs: (3878, 12)\n"
     ]
    }
   ],
   "source": [
    "kmerPositionsF = []\n",
    "kmerPositionsR = []\n",
    "kmerSeqColumn = 'k-mer sequence'\n",
    "genomeSeq = fastaSeq\n",
    "\n",
    "\n",
    "# function to find all positions of a particular kmer in the genome\n",
    "def listAllPositions(kmer, genomeSeq = fastaSeq):\n",
    "    \n",
    "    pattern = re.compile(r'(?=(' + kmer + '))')\n",
    "    positions = [p.start() for p in re.finditer(pattern, str(genomeSeq))]\n",
    "    \n",
    "    return positions\n",
    "\n",
    "# function to find the reverse complement of a given sequence\n",
    "def revComplementSeq(seqtoRC):\n",
    "    \n",
    "    seqObject = Seq(seqtoRC)\n",
    "    rc = seqObject.reverse_complement()\n",
    "    \n",
    "    return rc\n",
    "\n",
    "def gcContentFrac(seqGC):\n",
    "    gcNum = seqGC.count('G')+seqGC.count('g')+seqGC.count('C')+seqGC.count('c')\n",
    "    gcFrac = gcNum/len(seqGC)\n",
    "    \n",
    "    return gcFrac\n",
    "\n",
    "# loop to identify all compatible positions of kmers within acceptable distance\n",
    "\n",
    "for currKmer in chosenKmers:\n",
    "\n",
    "    \n",
    "    positions_currKmer = listAllPositions(currKmer, genomeSeq)\n",
    "\n",
    "    compatiblePositions = []\n",
    "    compatiblePositionsR = []\n",
    "\n",
    "    for currPos in positions_currKmer:\n",
    "\n",
    "        primerSpace_start = currPos + kmerSize + gRNA_size \n",
    "        primerSpace_end = primerSpace_start + wiggleRoom + kmerSize\n",
    "\n",
    "        if primerSpace_end < len(genomeSeq):\n",
    "            searchSpace = str(genomeSeq[primerSpace_start:primerSpace_end])\n",
    "        else:\n",
    "            searchSpace = ''\n",
    "\n",
    "        for searchKmer in chosenKmers:\n",
    "            kmer_rc = revComplementSeq(searchKmer) \n",
    "            if searchSpace.find(str(kmer_rc)) > -1:\n",
    "                compatiblePositions.append(currPos)\n",
    "                compatiblePositionsR.append(searchSpace.find(str(kmer_rc))+primerSpace_start)\n",
    "                break\n",
    "\n",
    "    kmerPositionsF.extend(compatiblePositions)\n",
    "    kmerPositionsR.extend(compatiblePositionsR)\n",
    "\n",
    "\n",
    "\n",
    "\n",
    "# function to find 3'-end positions for compatible forward kmer positions\n",
    "def find3EndF(kmerIndices):\n",
    "    \n",
    "    ends = [(i + kmerSize) for i in kmerIndices]\n",
    "        \n",
    "    return ends\n",
    "\n",
    "positions3F = find3EndF(kmerPositionsF)\n",
    "\n",
    "kmerSeqColumn = 'k-mer sequence'\n",
    "genomeSeq = fastaSeq\n",
    "        \n",
    "    \n",
    "print(\"Number of F primer Positions: \",len(kmerPositionsF))\n",
    "print(\"Number of R primer Positions: \",len(kmerPositionsR))\n",
    "\n",
    "\n",
    "\n",
    "#function to find distance between 3' ends of foward and reverse primers\n",
    "def positionDifference(revList, forList):\n",
    "    \n",
    "    differences = [(revList[r] - forList[r]) for r in range(len(revList))]\n",
    "    return differences\n",
    "\n",
    "kmerPositionDiff = positionDifference(kmerPositionsR, positions3F)\n",
    "\n",
    "#function to get forward primer sequences\n",
    "def initialPrimerSeqF(positionsF, genomeSeq = fastaSeq, length = primerLength-kmerSize):\n",
    "    \n",
    "    primerSequences = []\n",
    "    \n",
    "    for i in positionsF:\n",
    "        \n",
    "        primerStart = i - length\n",
    "        primerEnd = i + kmerSize\n",
    "        primerSequences.append(str(genomeSeq[primerStart:primerEnd]))\n",
    "    \n",
    "    return primerSequences\n",
    "\n",
    "\n",
    "#function to get forward primer sequences\n",
    "def initialPrimerSeqR(positionsR, genomeSeq = fastaSeq, length = primerLength-kmerSize):\n",
    "    \n",
    "    primerSequences = []\n",
    "    \n",
    "    for i in positionsR:\n",
    "        \n",
    "        primerEnd = i + kmerSize + length\n",
    "        rcSeq = revComplementSeq(str(genomeSeq[i:primerEnd]))\n",
    "        primerSequences.append(str(rcSeq))\n",
    "    \n",
    "    return primerSequences\n",
    "\n",
    "primerSeqF = initialPrimerSeqF(kmerPositionsF)\n",
    "primerSeqR = initialPrimerSeqR(kmerPositionsR)\n",
    "\n",
    "gcFractionR = []\n",
    "gcFractionF = []\n",
    "for currPrimer in primerSeqF:\n",
    "    gcFractionF.append(gcContentFrac(currPrimer))\n",
    "for currPrimer in primerSeqR:\n",
    "    gcFractionR.append(gcContentFrac(currPrimer))\n",
    "    \n",
    "len(kmerPositionDiff)\n",
    "\n",
    "TmPrimerF = []\n",
    "TmPrimerR = []\n",
    "for currPrimer in primerSeqF:\n",
    "    TmPrimerF.append(mt.Tm_NN(currPrimer, Na=50, Tris=10, Mg=0.4))\n",
    "for currPrimer in primerSeqR:\n",
    "    TmPrimerR.append(mt.Tm_NN(currPrimer, Na=50, Tris=10, Mg=0.4))\n",
    "    \n",
    "primerInitialSeq = {'primerF sequence': primerSeqF, 'primerR sequence': primerSeqR,\n",
    "                    'kmer index': kmerPositionsF,\n",
    "                    'primerF 3': positions3F, 'primerR 3': kmerPositionsR, \n",
    "                    'position difference': kmerPositionDiff, 'gcFracF': gcFractionF, 'gcFracR': gcFractionR, 'TmPrimerF': TmPrimerF, 'TmPrimerR': TmPrimerR}\n",
    "\n",
    "df_primerSeq = pd.DataFrame(primerInitialSeq)\n",
    "df_primerSeq.head()\n",
    "\n",
    "\n",
    "\n",
    "\n",
    "\n",
    "df_primerSeq_filtered = df_primerSeq\n",
    "\n",
    "\n",
    "\n",
    "#Adapter to add to the forward primers\n",
    "adaptPrimerF = 'gaaatTAATACGACTCACTATAGGG'\n",
    "# adaptGuide = 'GTTTTAGTCCCCTTCGTTTTTGGGGTAGTCTAAATCCCCTATAGTGAGTCGTATTAatttc'\n",
    "# adaptPrimerR = 'CAGGAAACAGCTATGAC'\n",
    "adaptPrimerR = ''\n",
    "df_primerSeq_filtered['primerF sequence'] = adaptPrimerF + df_primerSeq_filtered[\"primerF sequence\"].astype(str)\n",
    "df_primerSeq_filtered['primerR sequence'] = adaptPrimerR + df_primerSeq_filtered[\"primerR sequence\"].astype(str)\n",
    "\n",
    "\n",
    "#Screening primers to see if kmer binding sites exist\n",
    "for currKmer in chosenKmers:\n",
    "    print(\"Filtering sequence:\", kmer_rc)\n",
    "    kmer_rc = str(revComplementSeq(currKmer))\n",
    "    df_primerSeq_filtered[\"Fexclude\"]=df_primerSeq_filtered[\"primerF sequence\"].str.find(kmer_rc)\n",
    "    df_primerSeq_filtered[\"Rexclude\"]=df_primerSeq_filtered[\"primerR sequence\"].str.find(kmer_rc)\n",
    "    df_primerSeq_filtered = df_primerSeq_filtered[df_primerSeq_filtered.Fexclude < 0]\n",
    "    df_primerSeq_filtered = df_primerSeq_filtered[df_primerSeq_filtered.Rexclude < 0]\n",
    "    print(\"Remaining primer pairs:\", df_primerSeq_filtered.shape)\n",
    "    "
   ]
  },
  {
   "cell_type": "code",
   "execution_count": 5,
   "metadata": {},
   "outputs": [],
   "source": [
    "#Set path to file that contains filtered 28-mers that are unique to the pathogen of interest\n",
    "\n",
    "uniqueGenomeFileName = '../staph_unique_targets.fasta'\n",
    "\n",
    "uniqueSeq = []\n",
    "uniquePos = []\n",
    "\n",
    "#Reading 28-mer positions that are unique (based on header) and storing positions in a list (uniquePos)\n",
    "for record in SeqIO.parse(uniqueGenomeFileName, \"fasta\"):\n",
    "    uniqueSeq.append(str(record.seq))\n",
    "    curr_id = record.id\n",
    "    pos = curr_id.find(\"_\")\n",
    "    uniquePos.append(int(curr_id[pos+1:]))\n",
    "\n",
    "#Using the unique positions to create a genome map of unique regions (1 instead of 0)\n",
    "fastaSeqUnique = np.zeros(len(fastaSeq,), dtype=int)\n",
    "for i in uniquePos:\n",
    "    fastaSeqUnique[i-1]=1\n",
    "\n",
    "# fastaSeqUnique = np.ones(len(fastaSeq,), dtype=int)"
   ]
  },
  {
   "cell_type": "code",
   "execution_count": 6,
   "metadata": {},
   "outputs": [
    {
     "data": {
      "text/plain": [
       "(1, 17)"
      ]
     },
     "execution_count": 6,
     "metadata": {},
     "output_type": "execute_result"
    }
   ],
   "source": [
    "#Additional filtering for ensuring\n",
    "# primers and guide fall in a unique part of the genome\n",
    "# amplicons don't overlap with one another\n",
    "# amplicons don't contain homopolymeric regions\n",
    "# primers are not repeated\n",
    "\n",
    "df_primerSeq_filtered2 = df_primerSeq_filtered\n",
    "\n",
    "fastaSeqOccupied = np.zeros(len(fastaSeq), dtype=int)\n",
    "\n",
    "for index, row in df_primerSeq_filtered.iterrows():\n",
    "    currF = row['primerF 3']\n",
    "    currR = row['primerR 3']\n",
    "\n",
    "    df_primerSeq_filtered2.loc[index,'ampUnique'] = sum(fastaSeqUnique[currF:currR-28])\n",
    "    df_primerSeq_filtered2.loc[index,'fUnique10'] = sum(fastaSeqUnique[currF-28-5:currF-28])\n",
    "    df_primerSeq_filtered2.loc[index,'rUnique10'] = sum(fastaSeqUnique[currR:currR+5])\n",
    "    df_primerSeq_filtered2.loc[index,'amplicon'] = fastaSeq[currF:currR]\n",
    "    if sum(fastaSeqOccupied[currF-20:currR+20]>0):\n",
    "        df_primerSeq_filtered2.loc[index,'occupied'] = 2\n",
    "    else:\n",
    "        df_primerSeq_filtered2.loc[index,'occupied'] = 1\n",
    "        fastaSeqOccupied[currF-20:currR+20] = np.ones(len(range(currF-20,currR+20)))\n",
    "        \n",
    "    primerF = row['primerF sequence']\n",
    "    primerR = row['primerR sequence']\n",
    "    \n",
    "    \n",
    "df_primerSeq_filtered2 = df_primerSeq_filtered2[df_primerSeq_filtered2.gcFracF<0.9]\n",
    "df_primerSeq_filtered2 = df_primerSeq_filtered2[df_primerSeq_filtered2.gcFracR<0.9]      \n",
    "df_primerSeq_filtered2 = df_primerSeq_filtered2[df_primerSeq_filtered2.ampUnique>0]\n",
    "df_primerSeq_filtered2 = df_primerSeq_filtered2[df_primerSeq_filtered2.fUnique10>4]\n",
    "df_primerSeq_filtered2 = df_primerSeq_filtered2[df_primerSeq_filtered2.rUnique10>4]\n",
    "df_primerSeq_filtered2 = df_primerSeq_filtered2[df_primerSeq_filtered2.occupied<2]\n",
    "\n",
    "excludeSeq = ['AAAAA', 'TTTTT','CCCCC', 'GGGGG', 'NNNNN']\n",
    "\n",
    "for currExclude in excludeSeq:\n",
    "    df_primerSeq_filtered2 = df_primerSeq_filtered2[df_primerSeq_filtered2[\"primerF sequence\"].str.find(currExclude)<0]\n",
    "    df_primerSeq_filtered2 = df_primerSeq_filtered2[df_primerSeq_filtered2[\"primerR sequence\"].str.find(currExclude)<0]\n",
    "    df_primerSeq_filtered2 = df_primerSeq_filtered2[df_primerSeq_filtered2[\"amplicon\"].str.find(currExclude)<0]\n",
    "# for index, row in df_primerSeq_filtered.iterrows():\n",
    "#     currF = row['primerF 3']\n",
    "#     currR = row['primerR 3']\n",
    "#     print(\">\",index)\n",
    "#     print(fastaSeq[currF:currR])\n",
    "\n",
    "excludeSeq2 = ['AACCCACTACGCAGCCAATCTGATGGCAGC',\\\n",
    "'AATTGCGAAGGGCGAACGCGATTTTAAAGA',\\\n",
    "'AGGGGTGTGGTGTACGGGCAGGTAAGGCCG',\\\n",
    "'ATCAGTTGTTGCCCAATATGATCGGGTACT',\\\n",
    "'ATCCTGGGCTGGCGGGTCGCTTCCACGATG',\\\n",
    "'ATCTCTGCGACCATCCGCACCGCCCGCTCA',\\\n",
    "'CAAGTCGCAAGTGTCGATCATGGCCAAAGA',\\\n",
    "'CAGCCGCGTCCACGCCGCCAACTACGGTGT',\\\n",
    "'CCAACAAGAAGGCGTACTCGACCTGAAAGA',\\\n",
    "'CCAACCGTCGGTCGGAGCGGTCGGAAGCTC',\\\n",
    "'CCCGGTTGATGTGGTCGTAGTAGGTCGATG',\\\n",
    "'CCGCCAGGGCTTGCCGGGTTTGATCAGCTC',\\\n",
    "'CCGCGGTCAGCACGATTCGGAGTGGGCAGC',\\\n",
    "'CCGGATCAGCGATCGTGGTCCTGCGGGCTT',\\\n",
    "'CCTCGAGGTCCTCACCCGAGCCCGAGCAGC',\\\n",
    "'CCTTCCTCGCCGCCGACGCCCTGGTGCTCA',\\\n",
    "'CGAGGGCCCCGATGGTTTGCGGTGGGGTGT',\\\n",
    "'CGATGAACCGGGTAATTAGCGTGCTGGCCG',\\\n",
    "'CGCCTTCTTGTTGGCGGGTCCAGATGGCTT',\\\n",
    "'CGGCGAGCCGCTCGCTGAACCGGATCGATG',\\\n",
    "'CGGCGTTGACGCCGGTGGCGATCAAGGTGT',\\\n",
    "'CGTTCGACGGTGCATCTGGCCACCTCGATG',\\\n",
    "'CTGGTGACCAGCGCGACCCCGGACAGGCCG',\\\n",
    "'CTTGGAAAGGATGGGGTCATGTCAGGTGGT',\\\n",
    "'GCACCCACTTACGCACCGTCTCCGCGCAGC',\\\n",
    "'GCGGGGCGGGCTACCGCGAACGCAGCGATG',\\\n",
    "'GCGTCGGCGGCGAGGAAGGTATACGGGCCG',\\\n",
    "'GGCGTTGTCCCGCCGCAAGCGCTTCAGCTC',\\\n",
    "'TCCAGGTCACCTCCGCCGAGGACGGGGCCG',\\\n",
    "'TCGCGACGTCGATGGTTGCGGCACGGGTGT',\\\n",
    "'TTGCTGGTCGTTTCGAAGGATCACGCGATG',\\\n",
    "'CAGATGCACCGTCGAACGGCTGATGACCAA']\n",
    "\n",
    "for currSeq in excludeSeq2:   \n",
    "    # Get names of indexes for which column Age has value 30\n",
    "    indexNames = df_primerSeq_filtered2[ df_primerSeq_filtered2['primerR sequence'] == currSeq ].index\n",
    "    # Delete these row indexes from dataFrame\n",
    "    df_primerSeq_filtered2.drop(indexNames, inplace=True)\n",
    "    \n",
    "\n",
    "\n",
    "\n",
    "\n",
    "duplicate = df_primerSeq_filtered2[df_primerSeq_filtered2.duplicated(['primerF sequence','primerR sequence'])]\n",
    "\n",
    "duplicate.shape"
   ]
  },
  {
   "cell_type": "code",
   "execution_count": 7,
   "metadata": {},
   "outputs": [
    {
     "name": "stdout",
     "output_type": "stream",
     "text": [
      "Filtering sequence: CATCG\n",
      "Remaining primer pairs: (319, 17)\n",
      "Filtering sequence: CTGCT\n",
      "Remaining primer pairs: (319, 17)\n",
      "Filtering sequence: GTGGA\n",
      "Remaining primer pairs: (319, 17)\n",
      "Filtering sequence: GCAAC\n",
      "Remaining primer pairs: (319, 17)\n",
      "Filtering sequence: TCAAC\n",
      "Remaining primer pairs: (319, 17)\n",
      "Filtering sequence: TTGAG\n",
      "Remaining primer pairs: (319, 17)\n"
     ]
    }
   ],
   "source": [
    "curr_df = df_primerSeq_filtered2\n",
    "\n",
    "#Set the melting temperature\n",
    "medianTm = curr_df['TmPrimerF'].median()\n",
    "medianTm = 68\n",
    "\n",
    "primerF = curr_df['primerF sequence']\n",
    "primerR = curr_df['primerR sequence']\n",
    "\n",
    "newPrimerF = []\n",
    "newTmF = []\n",
    "for currPrimer in primerF:\n",
    "    currPrimer = currPrimer[25:]\n",
    "    currTm = mt.Tm_NN(currPrimer, Na=50, Tris=10, Mg=0.4)\n",
    "    while currTm > medianTm + 1 and len(currPrimer)>17:\n",
    "        currPrimer = currPrimer[1:]\n",
    "        currTm = mt.Tm_NN(currPrimer, Na=50, Tris=10, Mg=0.4)\n",
    "    newPrimerF.append(currPrimer)\n",
    "    newTmF.append(currTm)\n",
    "        \n",
    "newPrimerR = []\n",
    "newTmR = []\n",
    "for currPrimer in primerR:\n",
    "    currTm = mt.Tm_NN(currPrimer, Na=50, Tris=10, Mg=0.4)\n",
    "    while currTm > medianTm + 1 and len(currPrimer)>17:\n",
    "        currPrimer = currPrimer[1:]\n",
    "        currTm = mt.Tm_NN(currPrimer, Na=50, Tris=10, Mg=0.4)\n",
    "    newPrimerR.append(currPrimer) \n",
    "    newTmR.append(currTm)\n",
    "    \n",
    "curr_df['primerF sequence'] = newPrimerF\n",
    "curr_df['primerR sequence'] = newPrimerR\n",
    "        \n",
    "curr_df['primerF sequence'] = adaptPrimerF + curr_df[\"primerF sequence\"].astype(str)\n",
    "curr_df['primerR sequence'] = adaptPrimerR + curr_df[\"primerR sequence\"].astype(str)\n",
    "\n",
    "curr_df['TmPrimerF'] = newTmF\n",
    "curr_df['TmPrimerR'] = newTmR\n",
    "\n",
    "\n",
    "#Screening primers to see if kmer binding sites exist\n",
    "for currKmer in chosenKmers:\n",
    "    print(\"Filtering sequence:\", kmer_rc)\n",
    "    kmer_rc = str(revComplementSeq(currKmer))\n",
    "    curr_df[\"Fexclude\"]=curr_df[\"primerF sequence\"].str.find(kmer_rc)\n",
    "    curr_df[\"Rexclude\"]=curr_df[\"primerR sequence\"].str.find(kmer_rc)\n",
    "    curr_df = curr_df[curr_df.Fexclude < 0]\n",
    "    curr_df = curr_df[curr_df.Rexclude < 0]\n",
    "    print(\"Remaining primer pairs:\", curr_df.shape)\n",
    "    \n",
    "excludeSeq = ['AAAAA', 'TTTTT','CCCCC', 'GGGGG', 'NNNNN']\n",
    "\n",
    "for currExclude in excludeSeq:\n",
    "    curr_df = curr_df[curr_df[\"primerF sequence\"].str.find(currExclude)<0]"
   ]
  },
  {
   "cell_type": "code",
   "execution_count": 20,
   "metadata": {},
   "outputs": [
    {
     "data": {
      "text/plain": [
       "(array([   2.,    4.,    6.,   19.,   90., 1092., 1399.,   11.,    3.,\n",
       "           3.]),\n",
       " array([60.10841769, 61.45685934, 62.80530099, 64.15374264, 65.50218429,\n",
       "        66.85062594, 68.19906759, 69.54750924, 70.89595089, 72.24439253,\n",
       "        73.59283418]),\n",
       " <a list of 10 Patch objects>)"
      ]
     },
     "execution_count": 20,
     "metadata": {},
     "output_type": "execute_result"
    },
    {
     "data": {
      "image/png": "[encoded data removed]",
      "text/plain": [
       "<Figure size 432x288 with 1 Axes>"
      ]
     },
     "metadata": {
      "needs_background": "light"
     },
     "output_type": "display_data"
    }
   ],
   "source": [
    "import matplotlib.pyplot as plt\n",
    "\n",
    "plt.hist(curr_df['TmPrimerF'])\n",
    "plt.hist(curr_df['TmPrimerR'])"
   ]
  },
  {
   "cell_type": "code",
   "execution_count": 21,
   "metadata": {},
   "outputs": [],
   "source": [
    "curr_df['repeat'] = np.where(curr_df.duplicated(['primerF sequence','primerR sequence']), True, False)"
   ]
  },
  {
   "cell_type": "code",
   "execution_count": 22,
   "metadata": {},
   "outputs": [],
   "source": [
    "df_primerSeq_filtered2 = curr_df"
   ]
  },
  {
   "cell_type": "markdown",
   "metadata": {},
   "source": [
    "### Append adapters to F primer and guide target"
   ]
  },
  {
   "cell_type": "code",
   "execution_count": 23,
   "metadata": {},
   "outputs": [],
   "source": [
    "# adaptPrimerF = 'gaaatTAATACGACTCACTATAGGG'\n",
    "adaptGuide = 'GTTTTAGTCCCCTTCGTTTTTGGGGTAGTCTAAATCCCCTATAGTGAGTCGTATTAatttc'\n",
    "\n",
    "# df_primerSeq_filtered['FprimerToOrder'] = adaptPrimerF + df_primerSeq_filtered[\"primerF sequence\"].astype(str)\n",
    "df_primerSeq_filtered2['GuideToOrder'] = df_primerSeq_filtered2[\"amplicon\"].astype(str) + adaptGuide"
   ]
  },
  {
   "cell_type": "code",
   "execution_count": 24,
   "metadata": {},
   "outputs": [],
   "source": [
    "savename = date\n",
    "# for currKmer in chosenKmers:\n",
    "#     savename = savename+'_'+currKmer\n",
    "\n",
    "savename = savename+'_'+str(len(df_primerSeq_filtered2))+'primers_'+str(len(chosenKmers))+'kmers.csv'\n",
    "df_primerSeq_filtered2.to_csv(savename)"
   ]
  },
  {
   "cell_type": "code",
   "execution_count": 11,
   "metadata": {},
   "outputs": [
    {
     "name": "stdout",
     "output_type": "stream",
     "text": [
      "Filtering sequence: ACCAC\n",
      "Remaining primer pairs: (18, 17)\n",
      "Filtering sequence: TCTTT\n",
      "Remaining primer pairs: (18, 17)\n",
      "Filtering sequence: TTGGT\n",
      "Remaining primer pairs: (18, 17)\n",
      "Filtering sequence: GAGCT\n",
      "Remaining primer pairs: (18, 17)\n",
      "Filtering sequence: CATCG\n",
      "Remaining primer pairs: (18, 17)\n",
      "Filtering sequence: GCTGC\n",
      "Remaining primer pairs: (18, 17)\n",
      "Filtering sequence: TGAGC\n",
      "Remaining primer pairs: (18, 17)\n",
      "Filtering sequence: CGGCC\n",
      "Remaining primer pairs: (18, 17)\n",
      "Filtering sequence: AAGCC\n",
      "Remaining primer pairs: (18, 17)\n",
      "Filtering sequence: ACACC\n",
      "Remaining primer pairs: (18, 17)\n",
      "Filtering sequence: AGTAC\n",
      "Remaining primer pairs: (18, 17)\n"
     ]
    }
   ],
   "source": [
    "curr_df = pd.read_csv('18primers_11kmers.csv')\n",
    "\n",
    "#Set the melting temperature\n",
    "medianTm = 68\n",
    "\n",
    "primerF = curr_df['primerF sequence']\n",
    "primerR = curr_df['primerR sequence']\n",
    "\n",
    "newPrimerF = []\n",
    "newTmF = []\n",
    "for currPrimer in primerF:\n",
    "    currPrimer = currPrimer[25:]\n",
    "    currTm = mt.Tm_NN(currPrimer, Na=50, Tris=10, Mg=0.4)\n",
    "    while currTm > medianTm + 1 and len(currPrimer)>17:\n",
    "        currPrimer = currPrimer[1:]\n",
    "        currTm = mt.Tm_NN(currPrimer, Na=50, Tris=10, Mg=0.4)\n",
    "    newPrimerF.append(currPrimer)\n",
    "    newTmF.append(currTm)\n",
    "        \n",
    "newPrimerR = []\n",
    "newTmR = []\n",
    "for currPrimer in primerR:\n",
    "    currTm = mt.Tm_NN(currPrimer, Na=50, Tris=10, Mg=0.4)\n",
    "    while currTm > medianTm + 1 and len(currPrimer)>17:\n",
    "        currPrimer = currPrimer[1:]\n",
    "        currTm = mt.Tm_NN(currPrimer, Na=50, Tris=10, Mg=0.4)\n",
    "    newPrimerR.append(currPrimer) \n",
    "    newTmR.append(currTm)\n",
    "    \n",
    "curr_df['primerF sequence'] = newPrimerF\n",
    "curr_df['primerR sequence'] = newPrimerR\n",
    "        \n",
    "curr_df['primerF sequence'] = adaptPrimerF + curr_df[\"primerF sequence\"].astype(str)\n",
    "curr_df['primerR sequence'] = adaptPrimerR + curr_df[\"primerR sequence\"].astype(str)\n",
    "\n",
    "curr_df['TmPrimerF'] = newTmF\n",
    "curr_df['TmPrimerR'] = newTmR\n",
    "\n",
    "\n",
    "#Screening primers to see if kmer binding sites exist\n",
    "for currKmer in chosenKmers:\n",
    "    print(\"Filtering sequence:\", kmer_rc)\n",
    "    kmer_rc = str(revComplementSeq(currKmer))\n",
    "    curr_df[\"Fexclude\"]=curr_df[\"primerF sequence\"].str.find(kmer_rc)\n",
    "    curr_df[\"Rexclude\"]=curr_df[\"primerR sequence\"].str.find(kmer_rc)\n",
    "    curr_df = curr_df[curr_df.Fexclude < 0]\n",
    "    curr_df = curr_df[curr_df.Rexclude < 0]\n",
    "    print(\"Remaining primer pairs:\", curr_df.shape)"
   ]
  },
  {
   "cell_type": "code",
   "execution_count": 3,
   "metadata": {},
   "outputs": [],
   "source": [
    "df_primerSeq_filtered = pd.read_csv('20210728_2629primers_11kmers.csv')"
   ]
  },
  {
   "cell_type": "code",
   "execution_count": 4,
   "metadata": {},
   "outputs": [],
   "source": [
    "df_1_384 = df_primerSeq_filtered.head(384)\n",
    "\n",
    "df_1_384 = df_1_384.assign(chrom = 'NC_000962.3')\n",
    "df_1_384 = df_1_384.assign(locus = 'Locus_'+ df_1_384.iloc[:,0].astype(str))"
   ]
  },
  {
   "cell_type": "code",
   "execution_count": 12,
   "metadata": {},
   "outputs": [
    {
     "name": "stderr",
     "output_type": "stream",
     "text": [
      "/Users/gowtham/anaconda3/lib/python3.7/site-packages/pandas/core/indexing.py:965: SettingWithCopyWarning: \n",
      "A value is trying to be set on a copy of a slice from a DataFrame.\n",
      "Try using .loc[row_indexer,col_indexer] = value instead\n",
      "\n",
      "See the caveats in the documentation: https://pandas.pydata.org/pandas-docs/stable/user_guide/indexing.html#returning-a-view-versus-a-copy\n",
      "  self.obj[item] = s\n"
     ]
    }
   ],
   "source": [
    "df_bed_index = df_1_384[['chrom', 'primerF 3', 'primerR 3', 'locus']]\n",
    "df_bed_index.loc[:, \"primerF 3\"] = df_bed_index[\"primerF 3\"].subtract(10)\n",
    "df_bed_index.loc[:, \"primerR 3\"] = df_bed_index[\"primerR 3\"].add(10)\n",
    "\n",
    "df_bed_index.head()\n",
    "df_bed_index.to_csv('H37Rv_PCR_384x.bed', index=False, header=False, sep='\\t')"
   ]
  },
  {
   "cell_type": "code",
   "execution_count": 3,
   "metadata": {},
   "outputs": [
    {
     "data": {
      "text/plain": [
       "4411532"
      ]
     },
     "execution_count": 3,
     "metadata": {},
     "output_type": "execute_result"
    }
   ],
   "source": [
    "len(fastaSeq)"
   ]
  },
  {
   "cell_type": "code",
   "execution_count": null,
   "metadata": {},
   "outputs": [],
   "source": []
  }
 ],
 "metadata": {
  "kernelspec": {
   "display_name": "Python 3",
   "language": "python",
   "name": "python3"
  },
  "language_info": {
   "codemirror_mode": {
    "name": "ipython",
    "version": 3
   },
   "file_extension": ".py",
   "mimetype": "text/x-python",
   "name": "python",
   "nbconvert_exporter": "python",
   "pygments_lexer": "ipython3",
   "version": "3.7.6"
  }
 },
 "nbformat": 4,
 "nbformat_minor": 2
}
